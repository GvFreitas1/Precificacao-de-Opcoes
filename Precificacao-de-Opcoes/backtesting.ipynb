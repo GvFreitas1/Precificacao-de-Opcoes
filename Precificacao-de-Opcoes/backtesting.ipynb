{
 "cells": [
  {
   "cell_type": "code",
   "execution_count": 2,
   "metadata": {},
   "outputs": [
    {
     "data": {
      "text/html": [
       "<div>\n",
       "<style scoped>\n",
       "    .dataframe tbody tr th:only-of-type {\n",
       "        vertical-align: middle;\n",
       "    }\n",
       "\n",
       "    .dataframe tbody tr th {\n",
       "        vertical-align: top;\n",
       "    }\n",
       "\n",
       "    .dataframe thead th {\n",
       "        text-align: right;\n",
       "    }\n",
       "</style>\n",
       "<table border=\"1\" class=\"dataframe\">\n",
       "  <thead>\n",
       "    <tr style=\"text-align: right;\">\n",
       "      <th></th>\n",
       "      <th>Expiration_date</th>\n",
       "      <th>strike</th>\n",
       "      <th>lastPrice</th>\n",
       "      <th>days_to_expiration</th>\n",
       "    </tr>\n",
       "  </thead>\n",
       "  <tbody>\n",
       "    <tr>\n",
       "      <th>0</th>\n",
       "      <td>2024-12-20</td>\n",
       "      <td>30.0</td>\n",
       "      <td>26.70</td>\n",
       "      <td>26</td>\n",
       "    </tr>\n",
       "    <tr>\n",
       "      <th>1</th>\n",
       "      <td>2024-12-20</td>\n",
       "      <td>36.0</td>\n",
       "      <td>19.40</td>\n",
       "      <td>26</td>\n",
       "    </tr>\n",
       "    <tr>\n",
       "      <th>2</th>\n",
       "      <td>2024-12-20</td>\n",
       "      <td>37.0</td>\n",
       "      <td>17.00</td>\n",
       "      <td>26</td>\n",
       "    </tr>\n",
       "    <tr>\n",
       "      <th>3</th>\n",
       "      <td>2024-12-20</td>\n",
       "      <td>38.0</td>\n",
       "      <td>18.20</td>\n",
       "      <td>26</td>\n",
       "    </tr>\n",
       "    <tr>\n",
       "      <th>4</th>\n",
       "      <td>2024-12-20</td>\n",
       "      <td>40.0</td>\n",
       "      <td>16.82</td>\n",
       "      <td>26</td>\n",
       "    </tr>\n",
       "  </tbody>\n",
       "</table>\n",
       "</div>"
      ],
      "text/plain": [
       "  Expiration_date  strike  lastPrice  days_to_expiration\n",
       "0      2024-12-20    30.0      26.70                  26\n",
       "1      2024-12-20    36.0      19.40                  26\n",
       "2      2024-12-20    37.0      17.00                  26\n",
       "3      2024-12-20    38.0      18.20                  26\n",
       "4      2024-12-20    40.0      16.82                  26"
      ]
     },
     "execution_count": 2,
     "metadata": {},
     "output_type": "execute_result"
    }
   ],
   "source": [
    "from utils import *\n",
    "import pandas as pd\n",
    "import numpy as np\n",
    "import datetime as dt\n",
    "\n",
    "opt_data = pd.read_csv('./data/options.csv')\n",
    "opt_data[\"Expiration_date\"] = pd.to_datetime(opt_data[\"Expiration_date\"])\n",
    "\n",
    "opt_data = opt_data[[\"Expiration_date\", \"strike\", \"lastPrice\"]]\n",
    "opt_data[\"days_to_expiration\"] = (opt_data[\"Expiration_date\"] - dt.datetime.now()).dt.days\n",
    "opt_data.head()"
   ]
  },
  {
   "cell_type": "code",
   "execution_count": null,
   "metadata": {},
   "outputs": [],
   "source": []
  }
 ],
 "metadata": {
  "kernelspec": {
   "display_name": "Python 3",
   "language": "python",
   "name": "python3"
  },
  "language_info": {
   "codemirror_mode": {
    "name": "ipython",
    "version": 3
   },
   "file_extension": ".py",
   "mimetype": "text/x-python",
   "name": "python",
   "nbconvert_exporter": "python",
   "pygments_lexer": "ipython3",
   "version": "3.12.0"
  }
 },
 "nbformat": 4,
 "nbformat_minor": 2
}
