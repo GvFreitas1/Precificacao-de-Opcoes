{
 "cells": [
  {
   "cell_type": "markdown",
   "metadata": {},
   "source": [
    "<center> <h1> <b>Dev.Ensina - Modelos de Precificação de Opções</b> </h1> </center>"
   ]
  },
  {
   "cell_type": "markdown",
   "metadata": {},
   "source": [
    "*C:* Valor da Opção (Call) <br>\n",
    "*P:* Valor da Opção (Put)\n",
    "\n",
    "*S:* Preço Atual do Ativo <br>\n",
    "*X:* Preço de Exercício (Strike) <br>\n",
    "*r:* Taxa de Livre de Risco <br>\n",
    "*T:* Tempo até o vencimento <br>\n",
    "*σ:* Volatilidade - Desvio-padrão dos Log-Retornos\n",
    "\n",
    "*Obs:* Usaremos T em dias, logo r e σ serão valores diários."
   ]
  },
  {
   "cell_type": "code",
   "execution_count": 118,
   "metadata": {},
   "outputs": [],
   "source": [
    "import yfinance as yf\n",
    "import pandas as pd\n",
    "from datetime import datetime\n",
    "from scipy.stats import norm\n",
    "from scipy.integrate import quad\n",
    "from scipy.optimize import minimize_scalar\n",
    "import numpy as np\n",
    "import requests\n",
    "import plotly.graph_objects as go\n",
    "from ipywidgets import interact"
   ]
  },
  {
   "cell_type": "code",
   "execution_count": 119,
   "metadata": {},
   "outputs": [],
   "source": [
    "ticker = 'VALE3.SA'  # input('Digite o ticker do ativo de interesse: ')\n",
    "T = 50  # int(input(f'Em quanto tempo deseja exercer sua opção (em dias)? '))\n",
    "\n",
    "start = '2000-01-01'\n",
    "end = datetime.now().strftime('%Y-%m-%d')\n",
    "\n",
    "try:\n",
    "    df = pd.DataFrame(yf.Ticker(ticker).history(start=start, end=end)[\"Adjusted Close\"])\n",
    "    df['Returns'] = [None] + [np.log((df['Adjusted Close'].iloc[i+1] / df['Adjusted Close'].iloc[i])) for i in range(len(df)-1)]\n",
    "    S = df['Adjusted Close'].iloc[-1]\n",
    "except:\n",
    "    df = pd.DataFrame(yf.Ticker(ticker).history(start=start, end=end)[\"Close\"])\n",
    "    df['Returns'] = [None] + [np.log((df['Close'].iloc[i+1] / df['Close'].iloc[i])) for i in range(len(df)-1)]\n",
    "    S = df['Close'].iloc[-1]\n",
    "df.dropna(inplace=True)\n",
    "\n",
    "X = S # float(input(f'Sendo {S} o valor atual do ativo, qual o preço de exercício da opção (strike price)? '))\n",
    "\n",
    "sigma = df['Returns'].std()\n",
    "mi = df['Returns'].mean()\n",
    "\n",
    "r = 0 # float(requests.get('https://api.bcb.gov.br/dados/serie/bcdata.sgs.11/dados/ultimos/1?formato=json').json()[0]['valor']) / 100"
   ]
  },
  {
   "cell_type": "markdown",
   "metadata": {},
   "source": [
    "## **1) Modelo de Bachelier**"
   ]
  },
  {
   "cell_type": "code",
   "execution_count": 120,
   "metadata": {},
   "outputs": [],
   "source": [
    "D = (S-X)/(sigma*np.sqrt(T))\n",
    "C_bachelier = (S-X)*norm.cdf(D) + sigma*np.sqrt(T)*norm.pdf(D)"
   ]
  },
  {
   "cell_type": "markdown",
   "metadata": {},
   "source": [
    "## **2) Modelo de Black-Scholes**"
   ]
  },
  {
   "cell_type": "code",
   "execution_count": 121,
   "metadata": {},
   "outputs": [],
   "source": [
    "d1 = (np.log(S/X) + (r + (sigma**2)/2)*T) / (sigma*np.sqrt(T))\n",
    "d2 = d1 - sigma*np.sqrt(T)  # = np.log(S/X) + (r - (sigma**2)/2)*T / (sigma*np.sqrt(T))\n",
    "\n",
    "C_BS = S*norm.cdf(d1) - X*np.exp(-r*T)*norm.cdf(d2)"
   ]
  },
  {
   "cell_type": "markdown",
   "metadata": {},
   "source": [
    "## **3) Modelo de Freitas**"
   ]
  },
  {
   "cell_type": "code",
   "execution_count": 122,
   "metadata": {},
   "outputs": [],
   "source": [
    "mi_ST = np.log(S) + T*mi\n",
    "sigma_ST = np.sqrt(T)*sigma\n",
    "\n",
    "def ret_lin(s, C):\n",
    "    return (s-(X+C))*(1/(s*sigma_ST*np.sqrt(2*np.pi)))*np.exp(-(np.log(s)-mi_ST)**2/(2*sigma_ST**2))\n",
    "\n",
    "def ret_ct(s, C):\n",
    "    return -C*(1/(s*sigma_ST*np.sqrt(2*np.pi)))*np.exp(-(np.log(s)-mi_ST)**2/(2*sigma_ST**2))\n",
    "\n",
    "def diferenca_esperancas(C):\n",
    "    Pt = quad(ret_ct, 0, X, args=(C))[0]\n",
    "    Pp = quad(ret_lin, X, X + C, args=(C))[0]\n",
    "    L = quad(ret_lin, X + C, np.inf, args=(C))[0]\n",
    "    D = abs(L + Pt + Pp)\n",
    "    return D\n",
    "\n",
    "C_freitas = minimize_scalar(diferenca_esperancas).x / (1+r)**T"
   ]
  },
  {
   "cell_type": "code",
   "execution_count": 123,
   "metadata": {},
   "outputs": [
    {
     "data": {
      "text/html": [
       "<div>\n",
       "<style scoped>\n",
       "    .dataframe tbody tr th:only-of-type {\n",
       "        vertical-align: middle;\n",
       "    }\n",
       "\n",
       "    .dataframe tbody tr th {\n",
       "        vertical-align: top;\n",
       "    }\n",
       "\n",
       "    .dataframe thead th {\n",
       "        text-align: right;\n",
       "    }\n",
       "</style>\n",
       "<table border=\"1\" class=\"dataframe\">\n",
       "  <thead>\n",
       "    <tr style=\"text-align: right;\">\n",
       "      <th></th>\n",
       "      <th>Bachelier</th>\n",
       "      <th>Black-Scholes</th>\n",
       "      <th>Freitas</th>\n",
       "    </tr>\n",
       "  </thead>\n",
       "  <tbody>\n",
       "    <tr>\n",
       "      <th>0</th>\n",
       "      <td>0.070665</td>\n",
       "      <td>4.066416</td>\n",
       "      <td>5.617414</td>\n",
       "    </tr>\n",
       "  </tbody>\n",
       "</table>\n",
       "</div>"
      ],
      "text/plain": [
       "   Bachelier  Black-Scholes   Freitas\n",
       "0   0.070665       4.066416  5.617414"
      ]
     },
     "execution_count": 123,
     "metadata": {},
     "output_type": "execute_result"
    }
   ],
   "source": [
    "valores = pd.DataFrame({'Bachelier': [C_bachelier], 'Black-Scholes': [C_BS], 'Freitas': [C_freitas]})\n",
    "valores"
   ]
  },
  {
   "cell_type": "markdown",
   "metadata": {},
   "source": [
    "<center> <h1> <b>Gráfico Interativo</b> </h1> </center>"
   ]
  },
  {
   "cell_type": "code",
   "execution_count": 124,
   "metadata": {},
   "outputs": [],
   "source": [
    "def serie_bachelier(X, S, T, sigma):\n",
    "    serie = []\n",
    "    for t in range(1, T+11):\n",
    "        D = (S-X)/(sigma*np.sqrt(t))\n",
    "        serie.append((S-X)*norm.cdf(D) + sigma*np.sqrt(t)*norm.pdf(D))\n",
    "    return serie\n",
    "\n",
    "def serie_BS(X, S, T, sigma):\n",
    "    serie = []\n",
    "    for t in range(1, T+11):\n",
    "        d1 = (np.log(S/X) + (r + (sigma**2)/2)*t) / (sigma*np.sqrt(t))\n",
    "        d2 = d1 - sigma*np.sqrt(t)\n",
    "        serie.append(S*norm.cdf(d1) - X*np.exp(-r*t)*norm.cdf(d2))\n",
    "    return serie\n",
    "\n",
    "def serie_freitas(X, S, T, sigma, mi):\n",
    "    serie = []\n",
    "    for t in range(1, T+11):\n",
    "        mi_ST = np.log(S) + t*mi\n",
    "        sigma_ST = np.sqrt(t)*sigma\n",
    "\n",
    "        def ret_lin(s, C):\n",
    "            return (s-(X+C))*(1/(s*sigma_ST*np.sqrt(2*np.pi)))*np.exp(-(np.log(s)-mi_ST)**2/(2*sigma_ST**2))\n",
    "\n",
    "        def ret_ct(s, C):\n",
    "            return -C*(1/(s*sigma_ST*np.sqrt(2*np.pi)))*np.exp(-(np.log(s)-mi_ST)**2/(2*sigma_ST**2))\n",
    "\n",
    "        def diferenca_esperancas_interna(C):\n",
    "            Pt = quad(ret_ct, 0, X, args=(C))[0]\n",
    "            Pp = quad(ret_lin, X, X + C, args=(C))[0]\n",
    "            L = quad(ret_lin, X + C, np.inf, args=(C))[0]\n",
    "            D = abs(L + Pt + Pp)\n",
    "            return D\n",
    "\n",
    "        serie.append(minimize_scalar(diferenca_esperancas_interna).x)\n",
    "    return serie"
   ]
  },
  {
   "cell_type": "code",
   "execution_count": 125,
   "metadata": {},
   "outputs": [
    {
     "data": {
      "application/vnd.plotly.v1+json": {
       "config": {
        "plotlyServerURL": "https://plot.ly"
       },
       "data": [
        {
         "mode": "lines",
         "name": "Bachelier",
         "type": "scatter",
         "x": [
          1,
          2,
          3,
          4,
          5,
          6,
          7,
          8,
          9,
          10,
          11,
          12,
          13,
          14,
          15,
          16,
          17,
          18,
          19,
          20,
          21,
          22,
          23,
          24,
          25,
          26,
          27,
          28,
          29,
          30,
          31,
          32,
          33,
          34,
          35,
          36,
          37,
          38,
          39,
          40,
          41,
          42,
          43,
          44,
          45,
          46,
          47,
          48,
          49,
          50,
          51,
          52,
          53,
          54,
          55,
          56,
          57,
          58,
          59,
          60
         ],
         "y": [
          0.026258909645637804,
          0.0292575424878447,
          0.03189180550404034,
          0.034237446815206136,
          0.036366559832604284,
          0.038327993481402964,
          0.04015526465930715,
          0.04187225676596272,
          0.04349661022915454,
          0.04504175890829962,
          0.04651819849238887,
          0.04793430730818566,
          0.04929689634367906,
          0.0506115893284276,
          0.05188309253293909,
          0.05311539084040043,
          0.054311893210784404,
          0.05547554258544194,
          0.056608900280770334,
          0.05771421173688134,
          0.058793458410319986,
          0.059848399213928254,
          0.06088060396311834,
          0.06189148063312937,
          0.0628822977700246,
          0.06385420306738342,
          0.06480823888032305,
          0.0657453552716243,
          0.06666642105300666,
          0.06757223318539407,
          0.06846352482652811,
          0.06934097225629902,
          0.0702052008652191,
          0.07105679035633425,
          0.07189627928319792,
          0.07272416902457302,
          0.07354092727898215,
          0.07434699114811585,
          0.0751427698666901,
          0.07592864722705145,
          0.07670498373922148,
          0.07747211856081675,
          0.0782303712261061,
          0.07898004319917183,
          0.07972141927255463,
          0.08045476882975944,
          0.08118034698747087,
          0.08189839563119254,
          0.08260914435621466,
          0.08331281132427441,
          0.08400960404495897,
          0.08469972008977565,
          0.08538334774584552,
          0.08606066661534405,
          0.08673184816609102,
          0.0873970562380686,
          0.08805644751010246,
          0.0887101719304696,
          0.08935837311478229,
          0.09000118871413706
         ]
        },
        {
         "mode": "lines",
         "name": "Black-Scholes",
         "type": "scatter",
         "x": [
          1,
          2,
          3,
          4,
          5,
          6,
          7,
          8,
          9,
          10,
          11,
          12,
          13,
          14,
          15,
          16,
          17,
          18,
          19,
          20,
          21,
          22,
          23,
          24,
          25,
          26,
          27,
          28,
          29,
          30,
          31,
          32,
          33,
          34,
          35,
          36,
          37,
          38,
          39,
          40,
          41,
          42,
          43,
          44,
          45,
          46,
          47,
          48,
          49,
          50,
          51,
          52,
          53,
          54,
          55,
          56,
          57,
          58,
          59,
          60
         ],
         "y": [
          0.5877745475491984,
          0.8261906368609324,
          1.0091267790968352,
          1.1633394755496411,
          1.299194125853674,
          1.4220071649500028,
          1.5349369828698443,
          1.6400415433054114,
          1.7387503720881767,
          1.8321043375870794,
          1.920889239047046,
          2.00571558476004,
          2.087068895554072,
          2.1653428421429766,
          2.2408618755281573,
          2.313897156295468,
          2.3846780593864167,
          2.4534006696848323,
          2.520234177913867,
          2.585325778290361,
          2.6488044757970144,
          2.7107840858684575,
          2.7713656264892137,
          2.830639246675723,
          2.8886857966533697,
          2.9455781178843843,
          3.001382111719824,
          3.056157631409828,
          3.109959231899854,
          3.16283680418114,
          3.2148361152049745,
          3.265999269995966,
          3.316365109243531,
          3.3659695530521816,
          3.414845899502975,
          3.4630250850813162,
          3.51053591276046,
          3.557405252519331,
          3.603658218260236,
          3.6493183244353666,
          3.694407625156021,
          3.738946838121329,
          3.782955455343334,
          3.826451842348309,
          3.869453327287168,
          3.9119762811817935,
          3.95403619036189,
          3.9956477220016637,
          4.036824783542976,
          4.077580576688124,
          4.117927646556524,
          4.15787792652462,
          4.197442779203424,
          4.236633033952714,
          4.275459021283112,
          4.313930604455898,
          4.352057208554594,
          4.389847847271248,
          4.427311147623271,
          4.464455372792912
         ]
        },
        {
         "mode": "lines",
         "name": "Freitas",
         "type": "scatter",
         "x": [
          1,
          2,
          3,
          4,
          5,
          6,
          7,
          8,
          9,
          10,
          11,
          12,
          13,
          14,
          15,
          16,
          17,
          18,
          19,
          20,
          21,
          22,
          23,
          24,
          25,
          26,
          27,
          28,
          29,
          30,
          31,
          32,
          33,
          34,
          35,
          36,
          37,
          38,
          39,
          40,
          41,
          42,
          43,
          44,
          45,
          46,
          47,
          48,
          49,
          50,
          51,
          52,
          53,
          54,
          55,
          56,
          57,
          58,
          59,
          60
         ],
         "y": [
          0.6146615679983504,
          0.8803091241908731,
          1.0908076461533507,
          1.2728648874521857,
          1.4368151425611404,
          1.5879528703938188,
          1.7294199478822367,
          1.8632613445041208,
          1.990896001751972,
          2.113355961591086,
          2.2314194988865586,
          2.34569075883123,
          2.456649535609681,
          2.564684546700515,
          2.6701157498840544,
          2.7732103660756104,
          2.8741941257680743,
          2.9732598154224568,
          3.070573587688197,
          3.166279932487693,
          3.2605052568801263,
          3.3533609890380047,
          3.4449460015189106,
          3.535348362538832,
          3.6246469582970113,
          3.7129129121797386,
          3.800210358362787,
          3.886597545548993,
          3.9721276563733046,
          4.05684899493428,
          4.140806053016072,
          4.224039603649308,
          4.306587415440402,
          4.3884840581825575,
          4.469761790984151,
          4.550450585370226,
          4.630578065397395,
          4.710170316465889,
          4.789251414890972,
          4.86784405505277,
          4.945969378039768,
          5.023647332876413,
          5.100896539302142,
          5.177734729110906,
          5.254178489697121,
          5.330243371327218,
          5.405944278106308,
          5.481295234802199,
          5.556309493546836,
          5.6309996573194505,
          5.705377687551987,
          5.779454890921814,
          5.853242165534165,
          5.9267497636787905,
          5.999987464019517,
          6.072964655093921,
          6.145690302325449,
          6.218172969781301,
          6.290420716291239,
          6.362441493631564
         ]
        }
       ],
       "layout": {
        "template": {
         "data": {
          "bar": [
           {
            "error_x": {
             "color": "#f2f5fa"
            },
            "error_y": {
             "color": "#f2f5fa"
            },
            "marker": {
             "line": {
              "color": "rgb(17,17,17)",
              "width": 0.5
             },
             "pattern": {
              "fillmode": "overlay",
              "size": 10,
              "solidity": 0.2
             }
            },
            "type": "bar"
           }
          ],
          "barpolar": [
           {
            "marker": {
             "line": {
              "color": "rgb(17,17,17)",
              "width": 0.5
             },
             "pattern": {
              "fillmode": "overlay",
              "size": 10,
              "solidity": 0.2
             }
            },
            "type": "barpolar"
           }
          ],
          "carpet": [
           {
            "aaxis": {
             "endlinecolor": "#A2B1C6",
             "gridcolor": "#506784",
             "linecolor": "#506784",
             "minorgridcolor": "#506784",
             "startlinecolor": "#A2B1C6"
            },
            "baxis": {
             "endlinecolor": "#A2B1C6",
             "gridcolor": "#506784",
             "linecolor": "#506784",
             "minorgridcolor": "#506784",
             "startlinecolor": "#A2B1C6"
            },
            "type": "carpet"
           }
          ],
          "choropleth": [
           {
            "colorbar": {
             "outlinewidth": 0,
             "ticks": ""
            },
            "type": "choropleth"
           }
          ],
          "contour": [
           {
            "colorbar": {
             "outlinewidth": 0,
             "ticks": ""
            },
            "colorscale": [
             [
              0,
              "#0d0887"
             ],
             [
              0.1111111111111111,
              "#46039f"
             ],
             [
              0.2222222222222222,
              "#7201a8"
             ],
             [
              0.3333333333333333,
              "#9c179e"
             ],
             [
              0.4444444444444444,
              "#bd3786"
             ],
             [
              0.5555555555555556,
              "#d8576b"
             ],
             [
              0.6666666666666666,
              "#ed7953"
             ],
             [
              0.7777777777777778,
              "#fb9f3a"
             ],
             [
              0.8888888888888888,
              "#fdca26"
             ],
             [
              1,
              "#f0f921"
             ]
            ],
            "type": "contour"
           }
          ],
          "contourcarpet": [
           {
            "colorbar": {
             "outlinewidth": 0,
             "ticks": ""
            },
            "type": "contourcarpet"
           }
          ],
          "heatmap": [
           {
            "colorbar": {
             "outlinewidth": 0,
             "ticks": ""
            },
            "colorscale": [
             [
              0,
              "#0d0887"
             ],
             [
              0.1111111111111111,
              "#46039f"
             ],
             [
              0.2222222222222222,
              "#7201a8"
             ],
             [
              0.3333333333333333,
              "#9c179e"
             ],
             [
              0.4444444444444444,
              "#bd3786"
             ],
             [
              0.5555555555555556,
              "#d8576b"
             ],
             [
              0.6666666666666666,
              "#ed7953"
             ],
             [
              0.7777777777777778,
              "#fb9f3a"
             ],
             [
              0.8888888888888888,
              "#fdca26"
             ],
             [
              1,
              "#f0f921"
             ]
            ],
            "type": "heatmap"
           }
          ],
          "heatmapgl": [
           {
            "colorbar": {
             "outlinewidth": 0,
             "ticks": ""
            },
            "colorscale": [
             [
              0,
              "#0d0887"
             ],
             [
              0.1111111111111111,
              "#46039f"
             ],
             [
              0.2222222222222222,
              "#7201a8"
             ],
             [
              0.3333333333333333,
              "#9c179e"
             ],
             [
              0.4444444444444444,
              "#bd3786"
             ],
             [
              0.5555555555555556,
              "#d8576b"
             ],
             [
              0.6666666666666666,
              "#ed7953"
             ],
             [
              0.7777777777777778,
              "#fb9f3a"
             ],
             [
              0.8888888888888888,
              "#fdca26"
             ],
             [
              1,
              "#f0f921"
             ]
            ],
            "type": "heatmapgl"
           }
          ],
          "histogram": [
           {
            "marker": {
             "pattern": {
              "fillmode": "overlay",
              "size": 10,
              "solidity": 0.2
             }
            },
            "type": "histogram"
           }
          ],
          "histogram2d": [
           {
            "colorbar": {
             "outlinewidth": 0,
             "ticks": ""
            },
            "colorscale": [
             [
              0,
              "#0d0887"
             ],
             [
              0.1111111111111111,
              "#46039f"
             ],
             [
              0.2222222222222222,
              "#7201a8"
             ],
             [
              0.3333333333333333,
              "#9c179e"
             ],
             [
              0.4444444444444444,
              "#bd3786"
             ],
             [
              0.5555555555555556,
              "#d8576b"
             ],
             [
              0.6666666666666666,
              "#ed7953"
             ],
             [
              0.7777777777777778,
              "#fb9f3a"
             ],
             [
              0.8888888888888888,
              "#fdca26"
             ],
             [
              1,
              "#f0f921"
             ]
            ],
            "type": "histogram2d"
           }
          ],
          "histogram2dcontour": [
           {
            "colorbar": {
             "outlinewidth": 0,
             "ticks": ""
            },
            "colorscale": [
             [
              0,
              "#0d0887"
             ],
             [
              0.1111111111111111,
              "#46039f"
             ],
             [
              0.2222222222222222,
              "#7201a8"
             ],
             [
              0.3333333333333333,
              "#9c179e"
             ],
             [
              0.4444444444444444,
              "#bd3786"
             ],
             [
              0.5555555555555556,
              "#d8576b"
             ],
             [
              0.6666666666666666,
              "#ed7953"
             ],
             [
              0.7777777777777778,
              "#fb9f3a"
             ],
             [
              0.8888888888888888,
              "#fdca26"
             ],
             [
              1,
              "#f0f921"
             ]
            ],
            "type": "histogram2dcontour"
           }
          ],
          "mesh3d": [
           {
            "colorbar": {
             "outlinewidth": 0,
             "ticks": ""
            },
            "type": "mesh3d"
           }
          ],
          "parcoords": [
           {
            "line": {
             "colorbar": {
              "outlinewidth": 0,
              "ticks": ""
             }
            },
            "type": "parcoords"
           }
          ],
          "pie": [
           {
            "automargin": true,
            "type": "pie"
           }
          ],
          "scatter": [
           {
            "marker": {
             "line": {
              "color": "#283442"
             }
            },
            "type": "scatter"
           }
          ],
          "scatter3d": [
           {
            "line": {
             "colorbar": {
              "outlinewidth": 0,
              "ticks": ""
             }
            },
            "marker": {
             "colorbar": {
              "outlinewidth": 0,
              "ticks": ""
             }
            },
            "type": "scatter3d"
           }
          ],
          "scattercarpet": [
           {
            "marker": {
             "colorbar": {
              "outlinewidth": 0,
              "ticks": ""
             }
            },
            "type": "scattercarpet"
           }
          ],
          "scattergeo": [
           {
            "marker": {
             "colorbar": {
              "outlinewidth": 0,
              "ticks": ""
             }
            },
            "type": "scattergeo"
           }
          ],
          "scattergl": [
           {
            "marker": {
             "line": {
              "color": "#283442"
             }
            },
            "type": "scattergl"
           }
          ],
          "scattermapbox": [
           {
            "marker": {
             "colorbar": {
              "outlinewidth": 0,
              "ticks": ""
             }
            },
            "type": "scattermapbox"
           }
          ],
          "scatterpolar": [
           {
            "marker": {
             "colorbar": {
              "outlinewidth": 0,
              "ticks": ""
             }
            },
            "type": "scatterpolar"
           }
          ],
          "scatterpolargl": [
           {
            "marker": {
             "colorbar": {
              "outlinewidth": 0,
              "ticks": ""
             }
            },
            "type": "scatterpolargl"
           }
          ],
          "scatterternary": [
           {
            "marker": {
             "colorbar": {
              "outlinewidth": 0,
              "ticks": ""
             }
            },
            "type": "scatterternary"
           }
          ],
          "surface": [
           {
            "colorbar": {
             "outlinewidth": 0,
             "ticks": ""
            },
            "colorscale": [
             [
              0,
              "#0d0887"
             ],
             [
              0.1111111111111111,
              "#46039f"
             ],
             [
              0.2222222222222222,
              "#7201a8"
             ],
             [
              0.3333333333333333,
              "#9c179e"
             ],
             [
              0.4444444444444444,
              "#bd3786"
             ],
             [
              0.5555555555555556,
              "#d8576b"
             ],
             [
              0.6666666666666666,
              "#ed7953"
             ],
             [
              0.7777777777777778,
              "#fb9f3a"
             ],
             [
              0.8888888888888888,
              "#fdca26"
             ],
             [
              1,
              "#f0f921"
             ]
            ],
            "type": "surface"
           }
          ],
          "table": [
           {
            "cells": {
             "fill": {
              "color": "#506784"
             },
             "line": {
              "color": "rgb(17,17,17)"
             }
            },
            "header": {
             "fill": {
              "color": "#2a3f5f"
             },
             "line": {
              "color": "rgb(17,17,17)"
             }
            },
            "type": "table"
           }
          ]
         },
         "layout": {
          "annotationdefaults": {
           "arrowcolor": "#f2f5fa",
           "arrowhead": 0,
           "arrowwidth": 1
          },
          "autotypenumbers": "strict",
          "coloraxis": {
           "colorbar": {
            "outlinewidth": 0,
            "ticks": ""
           }
          },
          "colorscale": {
           "diverging": [
            [
             0,
             "#8e0152"
            ],
            [
             0.1,
             "#c51b7d"
            ],
            [
             0.2,
             "#de77ae"
            ],
            [
             0.3,
             "#f1b6da"
            ],
            [
             0.4,
             "#fde0ef"
            ],
            [
             0.5,
             "#f7f7f7"
            ],
            [
             0.6,
             "#e6f5d0"
            ],
            [
             0.7,
             "#b8e186"
            ],
            [
             0.8,
             "#7fbc41"
            ],
            [
             0.9,
             "#4d9221"
            ],
            [
             1,
             "#276419"
            ]
           ],
           "sequential": [
            [
             0,
             "#0d0887"
            ],
            [
             0.1111111111111111,
             "#46039f"
            ],
            [
             0.2222222222222222,
             "#7201a8"
            ],
            [
             0.3333333333333333,
             "#9c179e"
            ],
            [
             0.4444444444444444,
             "#bd3786"
            ],
            [
             0.5555555555555556,
             "#d8576b"
            ],
            [
             0.6666666666666666,
             "#ed7953"
            ],
            [
             0.7777777777777778,
             "#fb9f3a"
            ],
            [
             0.8888888888888888,
             "#fdca26"
            ],
            [
             1,
             "#f0f921"
            ]
           ],
           "sequentialminus": [
            [
             0,
             "#0d0887"
            ],
            [
             0.1111111111111111,
             "#46039f"
            ],
            [
             0.2222222222222222,
             "#7201a8"
            ],
            [
             0.3333333333333333,
             "#9c179e"
            ],
            [
             0.4444444444444444,
             "#bd3786"
            ],
            [
             0.5555555555555556,
             "#d8576b"
            ],
            [
             0.6666666666666666,
             "#ed7953"
            ],
            [
             0.7777777777777778,
             "#fb9f3a"
            ],
            [
             0.8888888888888888,
             "#fdca26"
            ],
            [
             1,
             "#f0f921"
            ]
           ]
          },
          "colorway": [
           "#636efa",
           "#EF553B",
           "#00cc96",
           "#ab63fa",
           "#FFA15A",
           "#19d3f3",
           "#FF6692",
           "#B6E880",
           "#FF97FF",
           "#FECB52"
          ],
          "font": {
           "color": "#f2f5fa"
          },
          "geo": {
           "bgcolor": "rgb(17,17,17)",
           "lakecolor": "rgb(17,17,17)",
           "landcolor": "rgb(17,17,17)",
           "showlakes": true,
           "showland": true,
           "subunitcolor": "#506784"
          },
          "hoverlabel": {
           "align": "left"
          },
          "hovermode": "closest",
          "mapbox": {
           "style": "dark"
          },
          "paper_bgcolor": "rgb(17,17,17)",
          "plot_bgcolor": "rgb(17,17,17)",
          "polar": {
           "angularaxis": {
            "gridcolor": "#506784",
            "linecolor": "#506784",
            "ticks": ""
           },
           "bgcolor": "rgb(17,17,17)",
           "radialaxis": {
            "gridcolor": "#506784",
            "linecolor": "#506784",
            "ticks": ""
           }
          },
          "scene": {
           "xaxis": {
            "backgroundcolor": "rgb(17,17,17)",
            "gridcolor": "#506784",
            "gridwidth": 2,
            "linecolor": "#506784",
            "showbackground": true,
            "ticks": "",
            "zerolinecolor": "#C8D4E3"
           },
           "yaxis": {
            "backgroundcolor": "rgb(17,17,17)",
            "gridcolor": "#506784",
            "gridwidth": 2,
            "linecolor": "#506784",
            "showbackground": true,
            "ticks": "",
            "zerolinecolor": "#C8D4E3"
           },
           "zaxis": {
            "backgroundcolor": "rgb(17,17,17)",
            "gridcolor": "#506784",
            "gridwidth": 2,
            "linecolor": "#506784",
            "showbackground": true,
            "ticks": "",
            "zerolinecolor": "#C8D4E3"
           }
          },
          "shapedefaults": {
           "line": {
            "color": "#f2f5fa"
           }
          },
          "sliderdefaults": {
           "bgcolor": "#C8D4E3",
           "bordercolor": "rgb(17,17,17)",
           "borderwidth": 1,
           "tickwidth": 0
          },
          "ternary": {
           "aaxis": {
            "gridcolor": "#506784",
            "linecolor": "#506784",
            "ticks": ""
           },
           "baxis": {
            "gridcolor": "#506784",
            "linecolor": "#506784",
            "ticks": ""
           },
           "bgcolor": "rgb(17,17,17)",
           "caxis": {
            "gridcolor": "#506784",
            "linecolor": "#506784",
            "ticks": ""
           }
          },
          "title": {
           "x": 0.05
          },
          "updatemenudefaults": {
           "bgcolor": "#506784",
           "borderwidth": 0
          },
          "xaxis": {
           "automargin": true,
           "gridcolor": "#283442",
           "linecolor": "#506784",
           "ticks": "",
           "title": {
            "standoff": 15
           },
           "zerolinecolor": "#283442",
           "zerolinewidth": 2
          },
          "yaxis": {
           "automargin": true,
           "gridcolor": "#283442",
           "linecolor": "#506784",
           "ticks": "",
           "title": {
            "standoff": 15
           },
           "zerolinecolor": "#283442",
           "zerolinewidth": 2
          }
         }
        },
        "title": {
         "text": "Gráfico de Precificação para X = 1.00S"
        },
        "xaxis": {
         "title": {
          "text": "Períodos"
         }
        },
        "yaxis": {
         "range": [
          0,
          5.761999893188477
         ],
         "title": {
          "text": "Preço da Opção"
         }
        }
       }
      }
     },
     "metadata": {},
     "output_type": "display_data"
    },
    {
     "data": {
      "application/vnd.jupyter.widget-view+json": {
       "model_id": "ed0bc8a98a0d485c921d737429ca63c3",
       "version_major": 2,
       "version_minor": 0
      },
      "text/plain": [
       "interactive(children=(FloatSlider(value=57.59599914550782, description='X', max=69.14399871826171, min=46.0959…"
      ]
     },
     "metadata": {},
     "output_type": "display_data"
    },
    {
     "data": {
      "text/plain": [
       "<function __main__.update_plot(X)>"
      ]
     },
     "execution_count": 125,
     "metadata": {},
     "output_type": "execute_result"
    }
   ],
   "source": [
    "# Gráfico Interativo\n",
    "def update_plot(X):\n",
    "    x = np.linspace(1, T+10, T+10)\n",
    "    y_bachelier = serie_bachelier(X, S, T, sigma)\n",
    "    y_BS = serie_BS(X, S, T, sigma)\n",
    "    y_freitas = serie_freitas(X, S, T, sigma, mi)\n",
    "\n",
    "    fig = go.Figure()\n",
    "    fig.add_trace(go.Scatter(x=x, y=y_bachelier, mode='lines', name=f'Bachelier'))\n",
    "    fig.add_trace(go.Scatter(x=x, y=y_BS, mode='lines', name=f'Black-Scholes'))\n",
    "    fig.add_trace(go.Scatter(x=x, y=y_freitas, mode='lines', name=f'Freitas'))\n",
    "\n",
    "    fig.update_layout(\n",
    "        title=f'Gráfico de Precificação para X = {X/S:.2f}S',\n",
    "        xaxis_title='Períodos',\n",
    "        yaxis_title='Preço da Opção',\n",
    "        yaxis_range=[0, 0.1*S],\n",
    "        template='plotly_dark')\n",
    "    fig.show()\n",
    "    \n",
    "interact(update_plot, X=(0.8*S, 1.2*S, 0.1))"
   ]
  },
  {
   "cell_type": "code",
   "execution_count": 126,
   "metadata": {},
   "outputs": [
    {
     "data": {
      "text/plain": [
       "-53.536864552131306"
      ]
     },
     "execution_count": 126,
     "metadata": {},
     "output_type": "execute_result"
    }
   ],
   "source": [
    "def ret_lin(s, P):\n",
    "    return (s-(X+P))*(1/(sigma_ST*np.sqrt(2*np.pi)))*np.exp(-(s-mi_ST)**2/(2*sigma_ST**2))\n",
    "\n",
    "def ret_ct(s, P):\n",
    "    return -P*(1/(sigma_ST*np.sqrt(2*np.pi)))*np.exp(-(s-mi_ST)**2/(2*sigma_ST**2))\n",
    "\n",
    "def diferenca_esperancas(P):\n",
    "    Pt = quad(ret_ct, X, np.inf, args=(P))[0]\n",
    "    Pp = quad(ret_lin, X - P, X, args=(P))[0]\n",
    "    L = quad(ret_lin, 0, X - P, args=(P))[0]\n",
    "    D = abs(L + Pt + Pp)\n",
    "    return D\n",
    "\n",
    "P_freitas = minimize_scalar(diferenca_esperancas).x / (1+r)**T\n",
    "P_freitas"
   ]
  }
 ],
 "metadata": {
  "kernelspec": {
   "display_name": "Python 3",
   "language": "python",
   "name": "python3"
  },
  "language_info": {
   "codemirror_mode": {
    "name": "ipython",
    "version": 3
   },
   "file_extension": ".py",
   "mimetype": "text/x-python",
   "name": "python",
   "nbconvert_exporter": "python",
   "pygments_lexer": "ipython3",
   "version": "3.11.3"
  }
 },
 "nbformat": 4,
 "nbformat_minor": 2
}
