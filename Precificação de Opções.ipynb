{
 "cells": [
  {
   "cell_type": "markdown",
   "metadata": {},
   "source": [
    "<center> <h1> <b>Dev.Ensina - Modelos de Precificação de Opções</b> </h1> </center>"
   ]
  },
  {
   "cell_type": "markdown",
   "metadata": {},
   "source": [
    "*C:* Valor da Opção (Call) <br>\n",
    "*P:* Valor da Opção (Put)\n",
    "\n",
    "*S:* Preço Atual do Ativo <br>\n",
    "*X:* Preço de Exercício (Strike) <br>\n",
    "*r:* Taxa de Livre de Risco <br>\n",
    "*T:* Tempo até o vencimento <br>\n",
    "*σ:* Volatilidade - Desvio-padrão dos Log-Retornos\n",
    "\n",
    "*Obs:* Usaremos T em dias, logo r e σ serão valores diários."
   ]
  },
  {
   "cell_type": "code",
   "execution_count": 20,
   "metadata": {},
   "outputs": [],
   "source": [
    "import yfinance as yf\n",
    "import pandas as pd\n",
    "from datetime import datetime\n",
    "from scipy.stats import norm\n",
    "from scipy.integrate import quad\n",
    "from scipy.optimize import minimize_scalar\n",
    "import numpy as np\n",
    "import requests\n",
    "import plotly.graph_objects as go\n",
    "from ipywidgets import interact"
   ]
  },
  {
   "cell_type": "code",
   "execution_count": 21,
   "metadata": {},
   "outputs": [],
   "source": [
    "ticker = 'VALE3.SA'  # input('Digite o ticker do ativo de interesse: ')\n",
    "T = 50  # int(input(f'Em quanto tempo deseja exercer sua opção (em dias)? '))\n",
    "\n",
    "start = '2000-01-01'\n",
    "end = datetime.now().strftime('%Y-%m-%d')\n",
    "\n",
    "try:\n",
    "    df = pd.DataFrame(yf.Ticker(ticker).history(start=start, end=end)[\"Adjusted Close\"])\n",
    "    df['Returns'] = [None] + [np.log((df['Adjusted Close'].iloc[i+1] / df['Adjusted Close'].iloc[i])) for i in range(len(df)-1)]\n",
    "    S = df['Adjusted Close'].iloc[-1]\n",
    "except:\n",
    "    df = pd.DataFrame(yf.Ticker(ticker).history(start=start, end=end)[\"Close\"])\n",
    "    df['Returns'] = [None] + [np.log((df['Close'].iloc[i+1] / df['Close'].iloc[i])) for i in range(len(df)-1)]\n",
    "    S = df['Close'].iloc[-1]\n",
    "df.dropna(inplace=True)\n",
    "\n",
    "X = S # float(input(f'Sendo {S} o valor atual do ativo, qual o preço de exercício da opção (strike price)? '))\n",
    "\n",
    "sigma = df['Returns'].std()\n",
    "mi = 0 # df['Returns'].mean()\n",
    "\n",
    "r = 0 # float(requests.get('https://api.bcb.gov.br/dados/serie/bcdata.sgs.11/dados/ultimos/1?formato=json').json()[0]['valor']) / 100"
   ]
  },
  {
   "cell_type": "markdown",
   "metadata": {},
   "source": [
    "## **1) Modelo de Bachelier**"
   ]
  },
  {
   "cell_type": "code",
   "execution_count": 22,
   "metadata": {},
   "outputs": [],
   "source": [
    "D = (S-X)/(sigma*np.sqrt(T))\n",
    "C_bachelier = (S-X)*norm.cdf(D) + sigma*np.sqrt(T)*norm.pdf(D)"
   ]
  },
  {
   "cell_type": "markdown",
   "metadata": {},
   "source": [
    "## **2) Modelo de Black-Scholes**"
   ]
  },
  {
   "cell_type": "code",
   "execution_count": 23,
   "metadata": {},
   "outputs": [],
   "source": [
    "d1 = (np.log(S/X) + (r + (sigma**2)/2)*T) / (sigma*np.sqrt(T))\n",
    "d2 = d1 - sigma*np.sqrt(T)  # = np.log(S/X) + (r - (sigma**2)/2)*T / (sigma*np.sqrt(T))\n",
    "\n",
    "C_BS = S*norm.cdf(d1) - X*np.exp(-r*T)*norm.cdf(d2)"
   ]
  },
  {
   "cell_type": "markdown",
   "metadata": {},
   "source": [
    "## **3) Modelo de Freitas**"
   ]
  },
  {
   "cell_type": "code",
   "execution_count": 24,
   "metadata": {},
   "outputs": [],
   "source": [
    "mi_ST = np.log(S) + T*mi\n",
    "sigma_ST = np.sqrt(T)*sigma\n",
    "\n",
    "def ret_lin(s, C):\n",
    "    return (s-(X+C))*(1/(s*sigma_ST*np.sqrt(2*np.pi)))*np.exp(-(np.log(s)-mi_ST)**2/(2*sigma_ST**2))\n",
    "\n",
    "def ret_ct(s, C):\n",
    "    return -C*(1/(s*sigma_ST*np.sqrt(2*np.pi)))*np.exp(-(np.log(s)-mi_ST)**2/(2*sigma_ST**2))\n",
    "\n",
    "def diferenca_esperancas(C):\n",
    "    Pt = quad(ret_ct, 0, X, args=(C))[0]\n",
    "    Pp = quad(ret_lin, X, X + C, args=(C))[0]\n",
    "    L = quad(ret_lin, X + C, np.inf, args=(C))[0]\n",
    "    D = abs(L + Pt + Pp)\n",
    "    return D\n",
    "\n",
    "C_freitas = minimize_scalar(diferenca_esperancas).x * np.exp(-r*mi_ST*T)"
   ]
  },
  {
   "cell_type": "code",
   "execution_count": 25,
   "metadata": {},
   "outputs": [
    {
     "data": {
      "text/html": [
       "<div>\n",
       "<style scoped>\n",
       "    .dataframe tbody tr th:only-of-type {\n",
       "        vertical-align: middle;\n",
       "    }\n",
       "\n",
       "    .dataframe tbody tr th {\n",
       "        vertical-align: top;\n",
       "    }\n",
       "\n",
       "    .dataframe thead th {\n",
       "        text-align: right;\n",
       "    }\n",
       "</style>\n",
       "<table border=\"1\" class=\"dataframe\">\n",
       "  <thead>\n",
       "    <tr style=\"text-align: right;\">\n",
       "      <th></th>\n",
       "      <th>Bachelier</th>\n",
       "      <th>Black-Scholes</th>\n",
       "      <th>Freitas</th>\n",
       "    </tr>\n",
       "  </thead>\n",
       "  <tbody>\n",
       "    <tr>\n",
       "      <th>0</th>\n",
       "      <td>0.070649</td>\n",
       "      <td>4.104994</td>\n",
       "      <td>4.613341</td>\n",
       "    </tr>\n",
       "  </tbody>\n",
       "</table>\n",
       "</div>"
      ],
      "text/plain": [
       "   Bachelier  Black-Scholes   Freitas\n",
       "0   0.070649       4.104994  4.613341"
      ]
     },
     "execution_count": 25,
     "metadata": {},
     "output_type": "execute_result"
    }
   ],
   "source": [
    "valores = pd.DataFrame({'Bachelier': [C_bachelier], 'Black-Scholes': [C_BS], 'Freitas': [C_freitas]})\n",
    "valores"
   ]
  },
  {
   "cell_type": "markdown",
   "metadata": {},
   "source": [
    "<center> <h1> <b>Gráfico Interativo</b> </h1> </center>"
   ]
  },
  {
   "cell_type": "code",
   "execution_count": 26,
   "metadata": {},
   "outputs": [],
   "source": [
    "def serie_bachelier(X, S, T, sigma):\n",
    "    serie = []\n",
    "    for t in range(1, T+11):\n",
    "        D = (S-X)/(sigma*np.sqrt(t))\n",
    "        serie.append((S-X)*norm.cdf(D) + sigma*np.sqrt(t)*norm.pdf(D))\n",
    "    return serie\n",
    "\n",
    "def serie_BS(X, S, T, sigma):\n",
    "    serie = []\n",
    "    for t in range(1, T+11):\n",
    "        d1 = (np.log(S/X) + (r + (sigma**2)/2)*t) / (sigma*np.sqrt(t))\n",
    "        d2 = d1 - sigma*np.sqrt(t)\n",
    "        serie.append(S*norm.cdf(d1) - X*np.exp(-r*t)*norm.cdf(d2))\n",
    "    return serie\n",
    "\n",
    "def serie_freitas(X, S, T, sigma, mi):\n",
    "    serie = []\n",
    "    for t in range(1, T+11):\n",
    "        mi_ST = np.log(S) + t*mi\n",
    "        sigma_ST = np.sqrt(t)*sigma\n",
    "\n",
    "        def ret_lin(s, C):\n",
    "            return (s-(X+C))*(1/(s*sigma_ST*np.sqrt(2*np.pi)))*np.exp(-(np.log(s)-mi_ST)**2/(2*sigma_ST**2))\n",
    "\n",
    "        def ret_ct(s, C):\n",
    "            return -C*(1/(s*sigma_ST*np.sqrt(2*np.pi)))*np.exp(-(np.log(s)-mi_ST)**2/(2*sigma_ST**2))\n",
    "\n",
    "        def diferenca_esperancas_interna(C):\n",
    "            Pt = quad(ret_ct, 0, X, args=(C))[0]\n",
    "            Pp = quad(ret_lin, X, X + C, args=(C))[0]\n",
    "            L = quad(ret_lin, X + C, np.inf, args=(C))[0]\n",
    "            D = abs(L + Pt + Pp)\n",
    "            return D\n",
    "\n",
    "        serie.append(minimize_scalar(diferenca_esperancas_interna).x)\n",
    "    return serie"
   ]
  },
  {
   "cell_type": "code",
   "execution_count": 27,
   "metadata": {},
   "outputs": [
    {
     "data": {
      "application/vnd.plotly.v1+json": {
       "config": {
        "plotlyServerURL": "https://plot.ly"
       },
       "data": [
        {
         "mode": "lines",
         "name": "Bachelier",
         "type": "scatter",
         "x": [
          1,
          2,
          3,
          4,
          5,
          6,
          7,
          8,
          9,
          10,
          11,
          12,
          13,
          14,
          15,
          16,
          17,
          18,
          19,
          20,
          21,
          22,
          23,
          24,
          25,
          26,
          27,
          28,
          29,
          30,
          31,
          32,
          33,
          34,
          35,
          36,
          37,
          38,
          39,
          40,
          41,
          42,
          43,
          44,
          45,
          46,
          47,
          48,
          49,
          50,
          51,
          52,
          53,
          54,
          55,
          56,
          57,
          58,
          59,
          60
         ],
         "y": [
          0.03684523769403327,
          0.03885977020021066,
          0.04094513087925823,
          0.04293252218222012,
          0.04480483261833019,
          0.0465707215708185,
          0.0482427131602992,
          0.0498325427636129,
          0.051350276911038745,
          0.052804352290822934,
          0.05420181762197194,
          0.05554858680727906,
          0.05684965611854216,
          0.05810927954291677,
          0.05933110751533108,
          0.06051829619731157,
          0.061673593774641926,
          0.06279940900032127,
          0.06389786602891848,
          0.06497084862512478,
          0.06602003608565926,
          0.0670469326524385,
          0.06805289177472289,
          0.0690391362635833,
          0.07000677514610344,
          0.0709568178487494,
          0.07189018620421472,
          0.0728077246727591,
          0.0737102090895395,
          0.0745983541877763,
          0.07547282009945672,
          0.07633421799743109,
          0.07718311501280738,
          0.07802003853769632,
          0.07884548000424592,
          0.07965989821549853,
          0.08046372229111558,
          0.08125735428084001,
          0.08204117149022985,
          0.08281552855633624,
          0.08358075930532324,
          0.08433717841931439,
          0.08508508293581601,
          0.08582475359977347,
          0.0865564560855441,
          0.08728044210373113,
          0.08799695040583967,
          0.08870620769802963,
          0.08940842947380258,
          0.09010382077422747,
          0.09079257688325348,
          0.09147488396474768,
          0.09215091964710896,
          0.09282085356062927,
          0.0934848478321808,
          0.09414305754129494,
          0.09479563114124755,
          0.09544271084837389,
          0.09608443300249117,
          0.09672092840100383
         ]
        },
        {
         "mode": "lines",
         "name": "Black-Scholes",
         "type": "scatter",
         "x": [
          1,
          2,
          3,
          4,
          5,
          6,
          7,
          8,
          9,
          10,
          11,
          12,
          13,
          14,
          15,
          16,
          17,
          18,
          19,
          20,
          21,
          22,
          23,
          24,
          25,
          26,
          27,
          28,
          29,
          30,
          31,
          32,
          33,
          34,
          35,
          36,
          37,
          38,
          39,
          40,
          41,
          42,
          43,
          44,
          45,
          46,
          47,
          48,
          49,
          50,
          51,
          52,
          53,
          54,
          55,
          56,
          57,
          58,
          59,
          60
         ],
         "y": [
          0.599275024958775,
          0.8399000511022692,
          1.024540333682328,
          1.180192713320956,
          1.3173171576504572,
          1.4412789491119575,
          1.555265617671349,
          1.6613541666227079,
          1.7609873734334265,
          1.855215769625616,
          1.9448324580765615,
          2.0304536267587494,
          2.112569316858373,
          2.191576866640773,
          2.2678037514311136,
          2.3415236605809504,
          2.412968108984696,
          2.4823350115505747,
          2.5497951385245123,
          2.6154970586769615,
          2.6795709819887215,
          2.7421317872517115,
          2.803281436436677,
          2.8631109211355685,
          2.9217018473669896,
          2.9791277376262535,
          3.0354551094993028,
          3.090744375990372,
          3.1450506023114393,
          3.1984241461503373,
          3.250911202622806,
          3.302554270698529,
          3.353392554503703,
          3.403462310280659,
          3.452797147737005,
          3.5014282929054374,
          3.5493848183576873,
          3.5966938455952793,
          3.6433807236201865,
          3.6894691870247485,
          3.7349814964008132,
          3.779938563426626,
          3.8243600626268766,
          3.868264531501225,
          3.9116694604677704,
          3.954591373859607,
          3.9970459030389947,
          4.039047852546755,
          4.080611260081238,
          4.121749450995932,
          4.162475087915954,
          4.2028002159973745,
          4.242736304288012,
          4.282294283592581,
          4.321484581196621,
          4.360317152761915,
          4.398801511670101,
          4.436946756059548,
          4.474761593773515,
          4.51225436541332
         ]
        },
        {
         "mode": "lines",
         "name": "Freitas",
         "type": "scatter",
         "x": [
          1,
          2,
          3,
          4,
          5,
          6,
          7,
          8,
          9,
          10,
          11,
          12,
          13,
          14,
          15,
          16,
          17,
          18,
          19,
          20,
          21,
          22,
          23,
          24,
          25,
          26,
          27,
          28,
          29,
          30,
          31,
          32,
          33,
          34,
          35,
          36,
          37,
          38,
          39,
          40,
          41,
          42,
          43,
          44,
          45,
          46,
          47,
          48,
          49,
          50,
          51,
          52,
          53,
          54,
          55,
          56,
          57,
          58,
          59,
          60
         ],
         "y": [
          0.6087159937896955,
          0.8587928298190141,
          1.05294425688743,
          1.2181613925874621,
          1.3648993069222606,
          1.4985194757630045,
          1.6222063434019087,
          1.7380345081095614,
          1.8474446259909545,
          1.9514854974591773,
          2.050948728565977,
          2.146449235967261,
          2.2384757933962804,
          2.3274248068341943,
          2.413622795757911,
          2.4973426258166915,
          2.5788150163422134,
          2.658237206510863,
          2.735779305522669,
          2.8115893253284985,
          2.8857968863113626,
          2.9585163693577092,
          3.02984928020363,
          3.099886164822668,
          3.1687081726755797,
          3.2363885151802454,
          3.3029932425347526,
          3.3685824722954685,
          3.4332108791174485,
          3.496928576286843,
          3.55978142291801,
          3.6218116917032934,
          3.683058182537836,
          3.743557035375248,
          3.8033415271589477,
          3.862442644710146,
          3.9208892586310466,
          3.978708318529915,
          4.03592491536563,
          4.092562545858683,
          4.148643267791542,
          4.204187929804114,
          4.259215940607324,
          4.313745597290099,
          4.367794345853137,
          4.4213785271038395,
          4.474513553935687,
          4.527214054737201,
          4.579494031648734,
          4.631366556421586,
          4.682844308835165,
          4.733939025984924,
          4.78466213964138,
          4.83502439012274,
          4.885036179104166,
          4.9347073144612885,
          4.984047105045747,
          5.033064626896353,
          5.081768407489598,
          5.130166727150569
         ]
        }
       ],
       "layout": {
        "template": {
         "data": {
          "bar": [
           {
            "error_x": {
             "color": "#f2f5fa"
            },
            "error_y": {
             "color": "#f2f5fa"
            },
            "marker": {
             "line": {
              "color": "rgb(17,17,17)",
              "width": 0.5
             },
             "pattern": {
              "fillmode": "overlay",
              "size": 10,
              "solidity": 0.2
             }
            },
            "type": "bar"
           }
          ],
          "barpolar": [
           {
            "marker": {
             "line": {
              "color": "rgb(17,17,17)",
              "width": 0.5
             },
             "pattern": {
              "fillmode": "overlay",
              "size": 10,
              "solidity": 0.2
             }
            },
            "type": "barpolar"
           }
          ],
          "carpet": [
           {
            "aaxis": {
             "endlinecolor": "#A2B1C6",
             "gridcolor": "#506784",
             "linecolor": "#506784",
             "minorgridcolor": "#506784",
             "startlinecolor": "#A2B1C6"
            },
            "baxis": {
             "endlinecolor": "#A2B1C6",
             "gridcolor": "#506784",
             "linecolor": "#506784",
             "minorgridcolor": "#506784",
             "startlinecolor": "#A2B1C6"
            },
            "type": "carpet"
           }
          ],
          "choropleth": [
           {
            "colorbar": {
             "outlinewidth": 0,
             "ticks": ""
            },
            "type": "choropleth"
           }
          ],
          "contour": [
           {
            "colorbar": {
             "outlinewidth": 0,
             "ticks": ""
            },
            "colorscale": [
             [
              0,
              "#0d0887"
             ],
             [
              0.1111111111111111,
              "#46039f"
             ],
             [
              0.2222222222222222,
              "#7201a8"
             ],
             [
              0.3333333333333333,
              "#9c179e"
             ],
             [
              0.4444444444444444,
              "#bd3786"
             ],
             [
              0.5555555555555556,
              "#d8576b"
             ],
             [
              0.6666666666666666,
              "#ed7953"
             ],
             [
              0.7777777777777778,
              "#fb9f3a"
             ],
             [
              0.8888888888888888,
              "#fdca26"
             ],
             [
              1,
              "#f0f921"
             ]
            ],
            "type": "contour"
           }
          ],
          "contourcarpet": [
           {
            "colorbar": {
             "outlinewidth": 0,
             "ticks": ""
            },
            "type": "contourcarpet"
           }
          ],
          "heatmap": [
           {
            "colorbar": {
             "outlinewidth": 0,
             "ticks": ""
            },
            "colorscale": [
             [
              0,
              "#0d0887"
             ],
             [
              0.1111111111111111,
              "#46039f"
             ],
             [
              0.2222222222222222,
              "#7201a8"
             ],
             [
              0.3333333333333333,
              "#9c179e"
             ],
             [
              0.4444444444444444,
              "#bd3786"
             ],
             [
              0.5555555555555556,
              "#d8576b"
             ],
             [
              0.6666666666666666,
              "#ed7953"
             ],
             [
              0.7777777777777778,
              "#fb9f3a"
             ],
             [
              0.8888888888888888,
              "#fdca26"
             ],
             [
              1,
              "#f0f921"
             ]
            ],
            "type": "heatmap"
           }
          ],
          "heatmapgl": [
           {
            "colorbar": {
             "outlinewidth": 0,
             "ticks": ""
            },
            "colorscale": [
             [
              0,
              "#0d0887"
             ],
             [
              0.1111111111111111,
              "#46039f"
             ],
             [
              0.2222222222222222,
              "#7201a8"
             ],
             [
              0.3333333333333333,
              "#9c179e"
             ],
             [
              0.4444444444444444,
              "#bd3786"
             ],
             [
              0.5555555555555556,
              "#d8576b"
             ],
             [
              0.6666666666666666,
              "#ed7953"
             ],
             [
              0.7777777777777778,
              "#fb9f3a"
             ],
             [
              0.8888888888888888,
              "#fdca26"
             ],
             [
              1,
              "#f0f921"
             ]
            ],
            "type": "heatmapgl"
           }
          ],
          "histogram": [
           {
            "marker": {
             "pattern": {
              "fillmode": "overlay",
              "size": 10,
              "solidity": 0.2
             }
            },
            "type": "histogram"
           }
          ],
          "histogram2d": [
           {
            "colorbar": {
             "outlinewidth": 0,
             "ticks": ""
            },
            "colorscale": [
             [
              0,
              "#0d0887"
             ],
             [
              0.1111111111111111,
              "#46039f"
             ],
             [
              0.2222222222222222,
              "#7201a8"
             ],
             [
              0.3333333333333333,
              "#9c179e"
             ],
             [
              0.4444444444444444,
              "#bd3786"
             ],
             [
              0.5555555555555556,
              "#d8576b"
             ],
             [
              0.6666666666666666,
              "#ed7953"
             ],
             [
              0.7777777777777778,
              "#fb9f3a"
             ],
             [
              0.8888888888888888,
              "#fdca26"
             ],
             [
              1,
              "#f0f921"
             ]
            ],
            "type": "histogram2d"
           }
          ],
          "histogram2dcontour": [
           {
            "colorbar": {
             "outlinewidth": 0,
             "ticks": ""
            },
            "colorscale": [
             [
              0,
              "#0d0887"
             ],
             [
              0.1111111111111111,
              "#46039f"
             ],
             [
              0.2222222222222222,
              "#7201a8"
             ],
             [
              0.3333333333333333,
              "#9c179e"
             ],
             [
              0.4444444444444444,
              "#bd3786"
             ],
             [
              0.5555555555555556,
              "#d8576b"
             ],
             [
              0.6666666666666666,
              "#ed7953"
             ],
             [
              0.7777777777777778,
              "#fb9f3a"
             ],
             [
              0.8888888888888888,
              "#fdca26"
             ],
             [
              1,
              "#f0f921"
             ]
            ],
            "type": "histogram2dcontour"
           }
          ],
          "mesh3d": [
           {
            "colorbar": {
             "outlinewidth": 0,
             "ticks": ""
            },
            "type": "mesh3d"
           }
          ],
          "parcoords": [
           {
            "line": {
             "colorbar": {
              "outlinewidth": 0,
              "ticks": ""
             }
            },
            "type": "parcoords"
           }
          ],
          "pie": [
           {
            "automargin": true,
            "type": "pie"
           }
          ],
          "scatter": [
           {
            "marker": {
             "line": {
              "color": "#283442"
             }
            },
            "type": "scatter"
           }
          ],
          "scatter3d": [
           {
            "line": {
             "colorbar": {
              "outlinewidth": 0,
              "ticks": ""
             }
            },
            "marker": {
             "colorbar": {
              "outlinewidth": 0,
              "ticks": ""
             }
            },
            "type": "scatter3d"
           }
          ],
          "scattercarpet": [
           {
            "marker": {
             "colorbar": {
              "outlinewidth": 0,
              "ticks": ""
             }
            },
            "type": "scattercarpet"
           }
          ],
          "scattergeo": [
           {
            "marker": {
             "colorbar": {
              "outlinewidth": 0,
              "ticks": ""
             }
            },
            "type": "scattergeo"
           }
          ],
          "scattergl": [
           {
            "marker": {
             "line": {
              "color": "#283442"
             }
            },
            "type": "scattergl"
           }
          ],
          "scattermapbox": [
           {
            "marker": {
             "colorbar": {
              "outlinewidth": 0,
              "ticks": ""
             }
            },
            "type": "scattermapbox"
           }
          ],
          "scatterpolar": [
           {
            "marker": {
             "colorbar": {
              "outlinewidth": 0,
              "ticks": ""
             }
            },
            "type": "scatterpolar"
           }
          ],
          "scatterpolargl": [
           {
            "marker": {
             "colorbar": {
              "outlinewidth": 0,
              "ticks": ""
             }
            },
            "type": "scatterpolargl"
           }
          ],
          "scatterternary": [
           {
            "marker": {
             "colorbar": {
              "outlinewidth": 0,
              "ticks": ""
             }
            },
            "type": "scatterternary"
           }
          ],
          "surface": [
           {
            "colorbar": {
             "outlinewidth": 0,
             "ticks": ""
            },
            "colorscale": [
             [
              0,
              "#0d0887"
             ],
             [
              0.1111111111111111,
              "#46039f"
             ],
             [
              0.2222222222222222,
              "#7201a8"
             ],
             [
              0.3333333333333333,
              "#9c179e"
             ],
             [
              0.4444444444444444,
              "#bd3786"
             ],
             [
              0.5555555555555556,
              "#d8576b"
             ],
             [
              0.6666666666666666,
              "#ed7953"
             ],
             [
              0.7777777777777778,
              "#fb9f3a"
             ],
             [
              0.8888888888888888,
              "#fdca26"
             ],
             [
              1,
              "#f0f921"
             ]
            ],
            "type": "surface"
           }
          ],
          "table": [
           {
            "cells": {
             "fill": {
              "color": "#506784"
             },
             "line": {
              "color": "rgb(17,17,17)"
             }
            },
            "header": {
             "fill": {
              "color": "#2a3f5f"
             },
             "line": {
              "color": "rgb(17,17,17)"
             }
            },
            "type": "table"
           }
          ]
         },
         "layout": {
          "annotationdefaults": {
           "arrowcolor": "#f2f5fa",
           "arrowhead": 0,
           "arrowwidth": 1
          },
          "autotypenumbers": "strict",
          "coloraxis": {
           "colorbar": {
            "outlinewidth": 0,
            "ticks": ""
           }
          },
          "colorscale": {
           "diverging": [
            [
             0,
             "#8e0152"
            ],
            [
             0.1,
             "#c51b7d"
            ],
            [
             0.2,
             "#de77ae"
            ],
            [
             0.3,
             "#f1b6da"
            ],
            [
             0.4,
             "#fde0ef"
            ],
            [
             0.5,
             "#f7f7f7"
            ],
            [
             0.6,
             "#e6f5d0"
            ],
            [
             0.7,
             "#b8e186"
            ],
            [
             0.8,
             "#7fbc41"
            ],
            [
             0.9,
             "#4d9221"
            ],
            [
             1,
             "#276419"
            ]
           ],
           "sequential": [
            [
             0,
             "#0d0887"
            ],
            [
             0.1111111111111111,
             "#46039f"
            ],
            [
             0.2222222222222222,
             "#7201a8"
            ],
            [
             0.3333333333333333,
             "#9c179e"
            ],
            [
             0.4444444444444444,
             "#bd3786"
            ],
            [
             0.5555555555555556,
             "#d8576b"
            ],
            [
             0.6666666666666666,
             "#ed7953"
            ],
            [
             0.7777777777777778,
             "#fb9f3a"
            ],
            [
             0.8888888888888888,
             "#fdca26"
            ],
            [
             1,
             "#f0f921"
            ]
           ],
           "sequentialminus": [
            [
             0,
             "#0d0887"
            ],
            [
             0.1111111111111111,
             "#46039f"
            ],
            [
             0.2222222222222222,
             "#7201a8"
            ],
            [
             0.3333333333333333,
             "#9c179e"
            ],
            [
             0.4444444444444444,
             "#bd3786"
            ],
            [
             0.5555555555555556,
             "#d8576b"
            ],
            [
             0.6666666666666666,
             "#ed7953"
            ],
            [
             0.7777777777777778,
             "#fb9f3a"
            ],
            [
             0.8888888888888888,
             "#fdca26"
            ],
            [
             1,
             "#f0f921"
            ]
           ]
          },
          "colorway": [
           "#636efa",
           "#EF553B",
           "#00cc96",
           "#ab63fa",
           "#FFA15A",
           "#19d3f3",
           "#FF6692",
           "#B6E880",
           "#FF97FF",
           "#FECB52"
          ],
          "font": {
           "color": "#f2f5fa"
          },
          "geo": {
           "bgcolor": "rgb(17,17,17)",
           "lakecolor": "rgb(17,17,17)",
           "landcolor": "rgb(17,17,17)",
           "showlakes": true,
           "showland": true,
           "subunitcolor": "#506784"
          },
          "hoverlabel": {
           "align": "left"
          },
          "hovermode": "closest",
          "mapbox": {
           "style": "dark"
          },
          "paper_bgcolor": "rgb(17,17,17)",
          "plot_bgcolor": "rgb(17,17,17)",
          "polar": {
           "angularaxis": {
            "gridcolor": "#506784",
            "linecolor": "#506784",
            "ticks": ""
           },
           "bgcolor": "rgb(17,17,17)",
           "radialaxis": {
            "gridcolor": "#506784",
            "linecolor": "#506784",
            "ticks": ""
           }
          },
          "scene": {
           "xaxis": {
            "backgroundcolor": "rgb(17,17,17)",
            "gridcolor": "#506784",
            "gridwidth": 2,
            "linecolor": "#506784",
            "showbackground": true,
            "ticks": "",
            "zerolinecolor": "#C8D4E3"
           },
           "yaxis": {
            "backgroundcolor": "rgb(17,17,17)",
            "gridcolor": "#506784",
            "gridwidth": 2,
            "linecolor": "#506784",
            "showbackground": true,
            "ticks": "",
            "zerolinecolor": "#C8D4E3"
           },
           "zaxis": {
            "backgroundcolor": "rgb(17,17,17)",
            "gridcolor": "#506784",
            "gridwidth": 2,
            "linecolor": "#506784",
            "showbackground": true,
            "ticks": "",
            "zerolinecolor": "#C8D4E3"
           }
          },
          "shapedefaults": {
           "line": {
            "color": "#f2f5fa"
           }
          },
          "sliderdefaults": {
           "bgcolor": "#C8D4E3",
           "bordercolor": "rgb(17,17,17)",
           "borderwidth": 1,
           "tickwidth": 0
          },
          "ternary": {
           "aaxis": {
            "gridcolor": "#506784",
            "linecolor": "#506784",
            "ticks": ""
           },
           "baxis": {
            "gridcolor": "#506784",
            "linecolor": "#506784",
            "ticks": ""
           },
           "bgcolor": "rgb(17,17,17)",
           "caxis": {
            "gridcolor": "#506784",
            "linecolor": "#506784",
            "ticks": ""
           }
          },
          "title": {
           "x": 0.05
          },
          "updatemenudefaults": {
           "bgcolor": "#506784",
           "borderwidth": 0
          },
          "xaxis": {
           "automargin": true,
           "gridcolor": "#283442",
           "linecolor": "#506784",
           "ticks": "",
           "title": {
            "standoff": 15
           },
           "zerolinecolor": "#283442",
           "zerolinewidth": 2
          },
          "yaxis": {
           "automargin": true,
           "gridcolor": "#283442",
           "linecolor": "#506784",
           "ticks": "",
           "title": {
            "standoff": 15
           },
           "zerolinecolor": "#283442",
           "zerolinewidth": 2
          }
         }
        },
        "title": {
         "text": "Gráfico de Precificação para X = 1.00S"
        },
        "xaxis": {
         "title": {
          "text": "Períodos"
         }
        },
        "yaxis": {
         "range": [
          0,
          5.818000030517578
         ],
         "title": {
          "text": "Preço da Opção"
         }
        }
       }
      }
     },
     "metadata": {},
     "output_type": "display_data"
    },
    {
     "data": {
      "application/vnd.jupyter.widget-view+json": {
       "model_id": "765ef285184341afa05b2345b72e4e0d",
       "version_major": 2,
       "version_minor": 0
      },
      "text/plain": [
       "interactive(children=(FloatSlider(value=58.14400024414063, description='X', max=69.81600036621093, min=46.5440…"
      ]
     },
     "metadata": {},
     "output_type": "display_data"
    },
    {
     "data": {
      "text/plain": [
       "<function __main__.update_plot(X)>"
      ]
     },
     "execution_count": 27,
     "metadata": {},
     "output_type": "execute_result"
    }
   ],
   "source": [
    "# Gráfico Interativo\n",
    "def update_plot(X):\n",
    "    x = np.linspace(1, T+10, T+10)\n",
    "    y_bachelier = serie_bachelier(X, S, T, sigma)\n",
    "    y_BS = serie_BS(X, S, T, sigma)\n",
    "    y_freitas = serie_freitas(X, S, T, sigma, mi)\n",
    "\n",
    "    fig = go.Figure()\n",
    "    fig.add_trace(go.Scatter(x=x, y=y_bachelier, mode='lines', name=f'Bachelier'))\n",
    "    fig.add_trace(go.Scatter(x=x, y=y_BS, mode='lines', name=f'Black-Scholes'))\n",
    "    fig.add_trace(go.Scatter(x=x, y=y_freitas, mode='lines', name=f'Freitas'))\n",
    "\n",
    "    fig.update_layout(\n",
    "        title=f'Gráfico de Precificação para X = {X/S:.2f}S',\n",
    "        xaxis_title='Períodos',\n",
    "        yaxis_title='Preço da Opção',\n",
    "        yaxis_range=[0, 0.1*S],\n",
    "        template='plotly_dark')\n",
    "    fig.show()\n",
    "    \n",
    "interact(update_plot, X=(0.8*S, 1.2*S, 0.1))"
   ]
  },
  {
   "cell_type": "code",
   "execution_count": 28,
   "metadata": {},
   "outputs": [
    {
     "data": {
      "text/plain": [
       "-54.11645896923178"
      ]
     },
     "execution_count": 28,
     "metadata": {},
     "output_type": "execute_result"
    }
   ],
   "source": [
    "def ret_lin(s, P):\n",
    "    return (s-(X+P))*(1/(sigma_ST*np.sqrt(2*np.pi)))*np.exp(-(s-mi_ST)**2/(2*sigma_ST**2))\n",
    "\n",
    "def ret_ct(s, P):\n",
    "    return -P*(1/(sigma_ST*np.sqrt(2*np.pi)))*np.exp(-(s-mi_ST)**2/(2*sigma_ST**2))\n",
    "\n",
    "def diferenca_esperancas(P):\n",
    "    Pt = quad(ret_ct, X, np.inf, args=(P))[0]\n",
    "    Pp = quad(ret_lin, X - P, X, args=(P))[0]\n",
    "    L = quad(ret_lin, 0, X - P, args=(P))[0]\n",
    "    D = abs(L + Pt + Pp)\n",
    "    return D\n",
    "\n",
    "P_freitas = minimize_scalar(diferenca_esperancas).x * np.exp(-r*mi_ST*T)\n",
    "P_freitas"
   ]
  }
 ],
 "metadata": {
  "kernelspec": {
   "display_name": "Python 3",
   "language": "python",
   "name": "python3"
  },
  "language_info": {
   "codemirror_mode": {
    "name": "ipython",
    "version": 3
   },
   "file_extension": ".py",
   "mimetype": "text/x-python",
   "name": "python",
   "nbconvert_exporter": "python",
   "pygments_lexer": "ipython3",
   "version": "3.11.3"
  }
 },
 "nbformat": 4,
 "nbformat_minor": 2
}
