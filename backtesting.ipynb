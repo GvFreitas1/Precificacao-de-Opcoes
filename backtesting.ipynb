{
 "cells": [
  {
   "cell_type": "code",
   "execution_count": 11,
   "metadata": {},
   "outputs": [
    {
     "data": {
      "text/html": [
       "<div>\n",
       "<style scoped>\n",
       "    .dataframe tbody tr th:only-of-type {\n",
       "        vertical-align: middle;\n",
       "    }\n",
       "\n",
       "    .dataframe tbody tr th {\n",
       "        vertical-align: top;\n",
       "    }\n",
       "\n",
       "    .dataframe thead th {\n",
       "        text-align: right;\n",
       "    }\n",
       "</style>\n",
       "<table border=\"1\" class=\"dataframe\">\n",
       "  <thead>\n",
       "    <tr style=\"text-align: right;\">\n",
       "      <th></th>\n",
       "      <th>lastTradeDate</th>\n",
       "      <th>Expiration_date</th>\n",
       "      <th>strike</th>\n",
       "      <th>lastPrice</th>\n",
       "      <th>days_to_expiration</th>\n",
       "    </tr>\n",
       "  </thead>\n",
       "  <tbody>\n",
       "    <tr>\n",
       "      <th>0</th>\n",
       "      <td>2024-11-22 20:58:37</td>\n",
       "      <td>2024-12-20</td>\n",
       "      <td>30.0</td>\n",
       "      <td>26.70</td>\n",
       "      <td>27</td>\n",
       "    </tr>\n",
       "    <tr>\n",
       "      <th>1</th>\n",
       "      <td>2024-11-21 14:34:42</td>\n",
       "      <td>2024-12-20</td>\n",
       "      <td>36.0</td>\n",
       "      <td>19.40</td>\n",
       "      <td>28</td>\n",
       "    </tr>\n",
       "    <tr>\n",
       "      <th>2</th>\n",
       "      <td>2024-11-19 18:49:06</td>\n",
       "      <td>2024-12-20</td>\n",
       "      <td>37.0</td>\n",
       "      <td>17.00</td>\n",
       "      <td>30</td>\n",
       "    </tr>\n",
       "    <tr>\n",
       "      <th>3</th>\n",
       "      <td>2024-11-21 17:45:27</td>\n",
       "      <td>2024-12-20</td>\n",
       "      <td>38.0</td>\n",
       "      <td>18.20</td>\n",
       "      <td>28</td>\n",
       "    </tr>\n",
       "    <tr>\n",
       "      <th>4</th>\n",
       "      <td>2024-11-22 20:42:42</td>\n",
       "      <td>2024-12-20</td>\n",
       "      <td>40.0</td>\n",
       "      <td>16.82</td>\n",
       "      <td>27</td>\n",
       "    </tr>\n",
       "  </tbody>\n",
       "</table>\n",
       "</div>"
      ],
      "text/plain": [
       "        lastTradeDate Expiration_date  strike  lastPrice  days_to_expiration\n",
       "0 2024-11-22 20:58:37      2024-12-20    30.0      26.70                  27\n",
       "1 2024-11-21 14:34:42      2024-12-20    36.0      19.40                  28\n",
       "2 2024-11-19 18:49:06      2024-12-20    37.0      17.00                  30\n",
       "3 2024-11-21 17:45:27      2024-12-20    38.0      18.20                  28\n",
       "4 2024-11-22 20:42:42      2024-12-20    40.0      16.82                  27"
      ]
     },
     "execution_count": 11,
     "metadata": {},
     "output_type": "execute_result"
    }
   ],
   "source": [
    "from utils import *\n",
    "import pandas as pd\n",
    "import numpy as np\n",
    "import datetime as dt\n",
    "import requests\n",
    "\n",
    "opt_data = pd.read_csv('./data/options.csv')\n",
    "opt_data[\"Expiration_date\"] = pd.to_datetime(opt_data[\"Expiration_date\"]).dt.tz_localize(None)\n",
    "opt_data[\"lastTradeDate\"] = pd.to_datetime(opt_data[\"lastTradeDate\"]).dt.tz_localize(None)\n",
    "\n",
    "opt_data = opt_data[[\"lastTradeDate\", \"Expiration_date\", \"strike\", \"lastPrice\"]]\n",
    "opt_data[\"days_to_expiration\"] = (opt_data[\"Expiration_date\"] - opt_data['lastTradeDate']).dt.days\n",
    "opt_data.head()"
   ]
  },
  {
   "cell_type": "code",
   "execution_count": 16,
   "metadata": {},
   "outputs": [],
   "source": [
    "dados = pd.read_csv('./data/btc-usd.csv')\n",
    "dados['Returns'] = np.log(dados['Adj Close']/dados['Adj Close'].shift(1))\n",
    "dados = dados[['Date', 'Returns']].dropna()\n",
    "dados\n",
    "\n",
    "mi = dados['Returns'].mean()\n",
    "sigma = dados['Returns'].std()\n",
    "\n",
    "r = float(requests.get('https://api.bcb.gov.br/dados/serie/bcdata.sgs.11/dados/ultimos/1?formato=json').json()[0]['valor']) / 100\n",
    "\n",
    "p9_gosta_de_homens = pd.DataFrame([[mi, sigma, r]], columns=['mi', 'sigma', 'rf']).to_csv('./data/p9_gosta_de_homens.csv', index=False)"
   ]
  },
  {
   "cell_type": "code",
   "execution_count": null,
   "metadata": {},
   "outputs": [],
   "source": []
  }
 ],
 "metadata": {
  "kernelspec": {
   "display_name": "Python 3",
   "language": "python",
   "name": "python3"
  },
  "language_info": {
   "codemirror_mode": {
    "name": "ipython",
    "version": 3
   },
   "file_extension": ".py",
   "mimetype": "text/x-python",
   "name": "python",
   "nbconvert_exporter": "python",
   "pygments_lexer": "ipython3",
   "version": "3.11.3"
  }
 },
 "nbformat": 4,
 "nbformat_minor": 2
}
